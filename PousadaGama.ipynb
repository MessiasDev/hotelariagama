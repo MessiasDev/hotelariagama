{
  "nbformat": 4,
  "nbformat_minor": 0,
  "metadata": {
    "colab": {
      "name": "PousadaGama.ipynb",
      "provenance": [],
      "collapsed_sections": [],
      "authorship_tag": "ABX9TyORSJ0dbvr3ZEp0v2iCExsV",
      "include_colab_link": true
    },
    "kernelspec": {
      "display_name": "Python 3",
      "name": "python3"
    },
    "language_info": {
      "name": "python"
    }
  },
  "cells": [
    {
      "cell_type": "markdown",
      "metadata": {
        "id": "view-in-github",
        "colab_type": "text"
      },
      "source": [
        "<a href=\"https://colab.research.google.com/github/diegowalhernandes/hotelariagama/blob/main/PousadaGama.ipynb\" target=\"_parent\"><img src=\"https://colab.research.google.com/assets/colab-badge.svg\" alt=\"Open In Colab\"/></a>"
      ]
    },
    {
      "cell_type": "code",
      "metadata": {
        "colab": {
          "background_save": true,
          "base_uri": "https://localhost:8080/"
        },
        "id": "MTnnJsNN_9Xt",
        "outputId": "14e6bbf9-e27d-41df-cf88-85d31935c94f"
      },
      "source": [
        "quarto = ['a', 'b', 'c', 'd']\n",
        "opcao = 0\n",
        "while opcao != 4:\n",
        "  print('=-'*15)\n",
        "  print('=-Bem vindo a Pousada Gama-=')\n",
        "  print('=-'*15)\n",
        "  print('''Escolha uma opção:\n",
        "  [1] Reservar quarto\n",
        "  [2] Vagas\n",
        "  [2] Check in\n",
        "  [3] Check out\n",
        "  [4] Finalizar programa''')\n",
        "  opcao = str(input('Qual a sua opção: '))\n",
        "print('Obrigado por se hospedar no Pousada Gama! Volte Sempre')\n"
      ],
      "execution_count": null,
      "outputs": [
        {
          "name": "stdout",
          "output_type": "stream",
          "text": [
            "=-=-=-=-=-=-=-=-=-=-=-=-=-=-=-\n",
            "=-Bem vindo a Pousada Gama-=\n",
            "=-=-=-=-=-=-=-=-=-=-=-=-=-=-=-\n",
            "Escolha uma opção:\n",
            "  [1] Reservar quarto\n",
            "  [2] Vagas\n",
            "  [2] Check in\n",
            "  [3] Check out\n",
            "  [4] Finalizar programa\n",
            "=-=-=-=-=-=-=-=-=-=-=-=-=-=-=-\n",
            "=-Bem vindo a Pousada Gama-=\n",
            "=-=-=-=-=-=-=-=-=-=-=-=-=-=-=-\n",
            "Escolha uma opção:\n",
            "  [1] Reservar quarto\n",
            "  [2] Vagas\n",
            "  [2] Check in\n",
            "  [3] Check out\n",
            "  [4] Finalizar programa\n",
            "=-=-=-=-=-=-=-=-=-=-=-=-=-=-=-\n",
            "=-Bem vindo a Pousada Gama-=\n",
            "=-=-=-=-=-=-=-=-=-=-=-=-=-=-=-\n",
            "Escolha uma opção:\n",
            "  [1] Reservar quarto\n",
            "  [2] Vagas\n",
            "  [2] Check in\n",
            "  [3] Check out\n",
            "  [4] Finalizar programa\n",
            "=-=-=-=-=-=-=-=-=-=-=-=-=-=-=-\n",
            "=-Bem vindo a Pousada Gama-=\n",
            "=-=-=-=-=-=-=-=-=-=-=-=-=-=-=-\n",
            "Escolha uma opção:\n",
            "  [1] Reservar quarto\n",
            "  [2] Vagas\n",
            "  [2] Check in\n",
            "  [3] Check out\n",
            "  [4] Finalizar programa\n",
            "=-=-=-=-=-=-=-=-=-=-=-=-=-=-=-\n",
            "=-Bem vindo a Pousada Gama-=\n",
            "=-=-=-=-=-=-=-=-=-=-=-=-=-=-=-\n",
            "Escolha uma opção:\n",
            "  [1] Reservar quarto\n",
            "  [2] Vagas\n",
            "  [2] Check in\n",
            "  [3] Check out\n",
            "  [4] Finalizar programa\n"
            # Essa parte:
            # quarto = [['a', 'b', 'c', 'd'] já seria uma lista
          ]
        }
      ]
    }
  ]
}
